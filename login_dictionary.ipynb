{
 "cells": [
  {
   "cell_type": "code",
   "execution_count": 1,
   "metadata": {},
   "outputs": [],
   "source": [
    "import csv"
   ]
  },
  {
   "cell_type": "code",
   "execution_count": 23,
   "metadata": {},
   "outputs": [],
   "source": [
    "database = {}"
   ]
  },
  {
   "cell_type": "code",
   "execution_count": 24,
   "metadata": {},
   "outputs": [],
   "source": [
    "with open('login.csv') as file:\n",
    "    reader = csv.DictReader(file)\n",
    "    for rows in reader:\n",
    "        database[rows['name'.strip()]] = rows['password'.strip()]"
   ]
  },
  {
   "cell_type": "code",
   "execution_count": 25,
   "metadata": {},
   "outputs": [
    {
     "name": "stdout",
     "output_type": "stream",
     "text": [
      "{'priyam': 'kapoor', 'john': 'legend', 'micheal': 'jackson', 'whitney': 'houston', 'tom': 'cruise'}\n"
     ]
    }
   ],
   "source": [
    "print(database)"
   ]
  },
  {
   "cell_type": "code",
   "execution_count": 29,
   "metadata": {},
   "outputs": [
    {
     "name": "stdout",
     "output_type": "stream",
     "text": [
      "Enter your username: john\n",
      "Enter your password: ovie\n",
      "Incorrect password,try again. 3 attempts left\n",
      "Enter your password: ovie\n",
      "Enter your password: ovie\n",
      "Enter your password: legend\n",
      "Welcome john, you have successfully logged in\n"
     ]
    }
   ],
   "source": [
    "count = 0\n",
    "name = input('Enter your username: ')\n",
    "if name in database.keys():\n",
    "    password = input('Enter your password: ')\n",
    "    if password == database[name]:\n",
    "        print(f'Welcome {name}, you have successfully logged in')\n",
    "    else:\n",
    "        print(f'Incorrect password,try again. 3 attempts left')\n",
    "        while count < 3 and password != database[name]:\n",
    "            password = input('Enter your password: ')\n",
    "            count += 1\n",
    "        if password == database[name]:\n",
    "            print(f'Welcome {name}, you have successfully logged in')\n",
    "        else:\n",
    "            print('This account has been blocked, kindly contact admin to unblock')\n",
    "else:\n",
    "    print('You don\\'t have a user account')\n",
    "            "
   ]
  },
  {
   "cell_type": "code",
   "execution_count": null,
   "metadata": {},
   "outputs": [],
   "source": []
  }
 ],
 "metadata": {
  "kernelspec": {
   "display_name": "Python 3",
   "language": "python",
   "name": "python3"
  },
  "language_info": {
   "codemirror_mode": {
    "name": "ipython",
    "version": 3
   },
   "file_extension": ".py",
   "mimetype": "text/x-python",
   "name": "python",
   "nbconvert_exporter": "python",
   "pygments_lexer": "ipython3",
   "version": "3.6.10"
  }
 },
 "nbformat": 4,
 "nbformat_minor": 4
}
