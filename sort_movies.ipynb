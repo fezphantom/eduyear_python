{
 "cells": [
  {
   "cell_type": "code",
   "execution_count": 1,
   "metadata": {},
   "outputs": [],
   "source": [
    "file = open('movie_data.txt', 'r')\n",
    "movie_database = {}\n",
    "for i in file:\n",
    "    k = i.strip().split(',')\n",
    "    if k[1] in movie_database:\n",
    "        movie_database[k[1]].append(k[0])\n",
    "    else:\n",
    "        movie_database[k[1]] = [k[0]]\n",
    "file.close()"
   ]
  },
  {
   "cell_type": "code",
   "execution_count": 4,
   "metadata": {},
   "outputs": [
    {
     "name": "stdout",
     "output_type": "stream",
     "text": [
      "{'Romance': ['2 States', 'Inkaar', 'Ek Villain', 'Happy Ending', 'Heropanti', 'Humpty Sharma Ki Dulhania', 'Khoobsurat', 'Kill Dil', 'Lekar Hum Deewana Dil'], 'Thriller': ['Table No. 21', 'Race 2', 'David', 'Hate Story 2', 'Heartless', 'Murder 3', 'The Attacks of 26/11', '3G', 'Aatma', 'Sona Spa'], 'Comedy': ['Amit Sahni Ki List', 'Bobby Jasoos', 'Daawat-E-Ishq', 'Matru Ki Bijlee Ka Mandola', 'Dedh Ishqiya', 'Entertainment', 'Filmistaan', 'Finding Fanny', 'Fugly', 'Humshakals', 'Mere Dad Ki Maruti', 'Jolly LLB', 'Main Tera Hero', 'Chashme Baddoor', 'Nautanki Saala', 'Mastram'], 'Drama': ['Rajdhani Express', 'Citylights', 'Gangoobai', 'Haider', 'Special 26', 'Happy New Year', 'ABCD _ Any Body Can Dance', 'Hawaa Hawaai', 'Kai Po Che!', 'Highway', 'Kya Dilli Kya Lahore', 'Manjunath', 'Mardaani', 'Mary Kom'], 'Action': ['Dishkiyaoon', 'Mumbai Mirror', 'Bandook', 'Gulaab Gang', 'Gunday', 'Zilla Ghaziabad', 'Holiday', 'Jai Ho', 'Kick', 'Koyelaanchal', 'Himmatwala', 'Commando-A One Man Army']}\n"
     ]
    }
   ],
   "source": [
    "print(movie_database)"
   ]
  },
  {
   "cell_type": "code",
   "execution_count": 3,
   "metadata": {},
   "outputs": [],
   "source": [
    "file1 = open('sorted_movies.txt','w')\n",
    "for k,v in movie_database.items():\n",
    "    file1.write(k)\n",
    "    file1.write(',')\n",
    "    file1.write('%s\\n' % v)\n",
    "file1.close()"
   ]
  },
  {
   "cell_type": "code",
   "execution_count": null,
   "metadata": {},
   "outputs": [],
   "source": []
  }
 ],
 "metadata": {
  "kernelspec": {
   "display_name": "Python 3",
   "language": "python",
   "name": "python3"
  },
  "language_info": {
   "codemirror_mode": {
    "name": "ipython",
    "version": 3
   },
   "file_extension": ".py",
   "mimetype": "text/x-python",
   "name": "python",
   "nbconvert_exporter": "python",
   "pygments_lexer": "ipython3",
   "version": "3.6.10"
  }
 },
 "nbformat": 4,
 "nbformat_minor": 4
}
