{
 "cells": [
  {
   "cell_type": "markdown",
   "metadata": {},
   "source": [
    "## From range n to m, print all the numbers divisible by 5 and 7 both"
   ]
  },
  {
   "cell_type": "code",
   "execution_count": 3,
   "metadata": {},
   "outputs": [
    {
     "name": "stdout",
     "output_type": "stream",
     "text": [
      "Enter a number: 100\n",
      "35\n",
      "70\n"
     ]
    }
   ],
   "source": [
    "n=int(input(\"Enter a number: \"))\n",
    "for i in range(1,n+1):\n",
    "    if i%5==0 and i%7==0:\n",
    "        print(i)"
   ]
  },
  {
   "cell_type": "markdown",
   "metadata": {},
   "source": [
    "## Find the sum of the series 2 +22 + 222 + 2222 + .. n terms, Given:number_of_terms"
   ]
  },
  {
   "cell_type": "code",
   "execution_count": 4,
   "metadata": {},
   "outputs": [
    {
     "name": "stdout",
     "output_type": "stream",
     "text": [
      "Enter a number: 8\n",
      "[2, 22, 222, 2222, 22222, 222222, 2222222, 22222222]\n",
      "The result of adding all terms is 24691356.\n"
     ]
    }
   ],
   "source": [
    "num=int(input(\"Enter a number: \"))\n",
    "term_list = []\n",
    "result = 0\n",
    "for i in range(1,num+1):\n",
    "    term = int('2'*i)\n",
    "    term_list.append(term)\n",
    "    result += term\n",
    "    \n",
    "print(term_list)    \n",
    "print(f'The result of adding all terms is {result}.')\n"
   ]
  },
  {
   "cell_type": "markdown",
   "metadata": {},
   "source": [
    "## Check whether a number is Perfect number or not."
   ]
  },
  {
   "cell_type": "code",
   "execution_count": 5,
   "metadata": {},
   "outputs": [],
   "source": [
    "# The print_fact function displays all factorials of the given number\n",
    "def print_fact(num):\n",
    "    chain = ''\n",
    "    for i in range(1,num):\n",
    "        # condition to check factorial\n",
    "        if num%i ==0:\n",
    "            #concat converted string i and + sign. concat works only on strings\n",
    "            chain += str(i)+' + '\n",
    "#             after the last digit, there will be a \"+\" sign and \" \" space, so we can slice them off using\n",
    "# slice operator[:-2]\n",
    "\n",
    "    return chain[:-2]"
   ]
  },
  {
   "cell_type": "code",
   "execution_count": 7,
   "metadata": {},
   "outputs": [
    {
     "name": "stdout",
     "output_type": "stream",
     "text": [
      "Enter a number: 496\n",
      "The number 496 is a perfect number\n",
      "1 + 2 + 4 + 8 + 16 + 31 + 62 + 124 + 248  =  496\n"
     ]
    }
   ],
   "source": [
    "nos = int(input(\"Enter a number: \"))\n",
    "res = 0\n",
    "for i in range(1,nos):\n",
    "    if nos%i== 0:\n",
    "        res += i\n",
    "if res != nos:\n",
    "    print(f'The number {nos} is not a perfect number')\n",
    "else:\n",
    "    print(f'The number {nos} is a perfect number')\n",
    "    print(print_fact(nos), '= ', nos)"
   ]
  },
  {
   "cell_type": "markdown",
   "metadata": {},
   "source": [
    "## 1. Take integer inputs from user until he/she presses q ( Ask to press q to quit after every integer input ). Print the sum of all numbers. (Use while loop)"
   ]
  },
  {
   "cell_type": "code",
   "execution_count": 11,
   "metadata": {},
   "outputs": [
    {
     "name": "stdout",
     "output_type": "stream",
     "text": [
      "Enter a series of number to find the sum. Press Q or q to quit the program\n",
      "Enter a number: 1\n",
      "Keep entering numbers. Don't forget to press q once done: 2\n",
      "Keep entering numbers. Don't forget to press q once done: 3\n",
      "Keep entering numbers. Don't forget to press q once done: 4\n",
      "Keep entering numbers. Don't forget to press q once done: 5\n",
      "Keep entering numbers. Don't forget to press q once done: 6\n",
      "Keep entering numbers. Don't forget to press q once done: q\n",
      "The sum of numbers entered is 21\n"
     ]
    }
   ],
   "source": [
    "print('Enter a series of number to find the sum. Press Q or q to quit the program')\n",
    "data = input(\"Enter a number: \")\n",
    "sum = 0\n",
    "while data.lower() != 'q':\n",
    "    sum += int(data)\n",
    "    data = input('Keep entering numbers. Don\\'t forget to press q once done: ')\n",
    "        \n",
    "print(f'The sum of numbers entered is {sum}')\n",
    "    "
   ]
  },
  {
   "cell_type": "markdown",
   "metadata": {},
   "source": [
    "## Check whether a number is Armstrong Number or not.\n",
    "Armstrong number (any logic)"
   ]
  },
  {
   "cell_type": "code",
   "execution_count": 14,
   "metadata": {},
   "outputs": [
    {
     "name": "stdout",
     "output_type": "stream",
     "text": [
      "Enter a number: 407\n",
      "407 is an armstrong number\n"
     ]
    }
   ],
   "source": [
    "digit = input(\"Enter a number: \")\n",
    "output =0\n",
    "for i in digit:\n",
    "    output += int(i)**3\n",
    "if output == int(digit):\n",
    "    print(f'{digit} is an armstrong number')\n",
    "else:\n",
    "    print(f'{digit} is an armstrong number')\n",
    "    "
   ]
  },
  {
   "cell_type": "markdown",
   "metadata": {},
   "source": [
    "## Write a loop to find the factorial of any number\n",
    "The factorial (symbol: !) means to multiply all whole numbers from our chosen number down to 1."
   ]
  },
  {
   "cell_type": "code",
   "execution_count": 18,
   "metadata": {},
   "outputs": [
    {
     "name": "stdout",
     "output_type": "stream",
     "text": [
      "Enter a number: 5\n",
      "5! = 120\n"
     ]
    }
   ],
   "source": [
    "nos = int(input(\"Enter a number: \"))\n",
    "res = 1\n",
    "for i in range(nos, 1, -1):\n",
    "    res *= i\n",
    "print(f'{nos}! = {res}')"
   ]
  },
  {
   "cell_type": "markdown",
   "metadata": {},
   "source": [
    "## Common part ->  Create a list of n numbers\n",
    "\n",
    "\n",
    "Q1. Count even numbers and odd numbers"
   ]
  },
  {
   "cell_type": "code",
   "execution_count": 21,
   "metadata": {},
   "outputs": [
    {
     "name": "stdout",
     "output_type": "stream",
     "text": [
      "Given the list, there are 5 odd numbers and 5 even numbers\n"
     ]
    }
   ],
   "source": [
    "lst = [1,2,3,4,5,6,7,8,9,10]\n",
    "odd = 0\n",
    "even = 0\n",
    "for i in lst:\n",
    "    if i % 2==0:\n",
    "        even += 1\n",
    "    else:\n",
    "        odd += 1\n",
    "print(f'Given the list, there are {odd} odd numbers and {even} even numbers')"
   ]
  },
  {
   "cell_type": "markdown",
   "metadata": {},
   "source": [
    "Q2. Tell max and min of the list"
   ]
  },
  {
   "cell_type": "code",
   "execution_count": 24,
   "metadata": {},
   "outputs": [
    {
     "name": "stdout",
     "output_type": "stream",
     "text": [
      "The maximum number in the list is 10\n",
      "The minimum number in the list is 1\n"
     ]
    }
   ],
   "source": [
    "print('The maximum number in the list is',max(lst))\n",
    "print('The minimum number in the list is',min(lst))"
   ]
  },
  {
   "cell_type": "markdown",
   "metadata": {},
   "source": [
    "Q3. Check whether the whole list is palindrome or not( eg. [1,2,1] gives yes for palindrome while [1,2,2] doesn't"
   ]
  },
  {
   "cell_type": "code",
   "execution_count": 28,
   "metadata": {},
   "outputs": [
    {
     "name": "stdout",
     "output_type": "stream",
     "text": [
      "[1, 2, 1] is a palindrome\n",
      "[1, 2, 2] is not a palindrome\n"
     ]
    }
   ],
   "source": [
    "lst = [1,2,1]\n",
    "lst1 = [1,2,2]\n",
    "\n",
    "def palindrome(lst):\n",
    "    if lst == lst[::-1]:\n",
    "        print(f'{lst} is a palindrome')\n",
    "    else:\n",
    "        print(f'{lst} is not a palindrome')\n",
    "        \n",
    "palindrome(lst)\n",
    "palindrome(lst1)"
   ]
  },
  {
   "cell_type": "markdown",
   "metadata": {},
   "source": [
    "Q4. Print the numbers which are palindrome inside the list"
   ]
  },
  {
   "cell_type": "code",
   "execution_count": 34,
   "metadata": {},
   "outputs": [
    {
     "name": "stdout",
     "output_type": "stream",
     "text": [
      "[121, 141, 252]\n"
     ]
    }
   ],
   "source": [
    "lst2 = [10, 121, 133, 155, 141, 252]\n",
    "palindrome = []\n",
    "for i in lst2:\n",
    "    str_num = str(i)\n",
    "    if str_num == str_num[::-1]:\n",
    "        palindrome.append(i)\n",
    "print(palindrome)"
   ]
  },
  {
   "cell_type": "code",
   "execution_count": null,
   "metadata": {},
   "outputs": [],
   "source": []
  }
 ],
 "metadata": {
  "kernelspec": {
   "display_name": "Python 3",
   "language": "python",
   "name": "python3"
  },
  "language_info": {
   "codemirror_mode": {
    "name": "ipython",
    "version": 3
   },
   "file_extension": ".py",
   "mimetype": "text/x-python",
   "name": "python",
   "nbconvert_exporter": "python",
   "pygments_lexer": "ipython3",
   "version": "3.6.10"
  }
 },
 "nbformat": 4,
 "nbformat_minor": 4
}
